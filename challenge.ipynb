{
 "cells": [
  {
   "cell_type": "code",
   "execution_count": 197,
   "id": "f42b5878",
   "metadata": {
    "scrolled": false
   },
   "outputs": [],
   "source": [
    "# librarys importation\n",
    "import numpy as np\n",
    "import pandas as pd\n",
    "import matplotlib.pyplot as plt\n",
    "#libraries for machine learning\n",
    "from tensorflow import keras\n",
    "from sklearn.preprocessing import StandardScaler\n",
    "import plotly.graph_objects as go\n",
    "from tensorflow.keras.models import Sequential\n",
    "from tensorflow.keras.layers import Dense, LSTM, Dropout, RepeatVector, TimeDistributed"
   ]
  },
  {
   "cell_type": "code",
   "execution_count": 198,
   "id": "c1e8a900",
   "metadata": {},
   "outputs": [
    {
     "data": {
      "text/html": [
       "<div>\n",
       "<style scoped>\n",
       "    .dataframe tbody tr th:only-of-type {\n",
       "        vertical-align: middle;\n",
       "    }\n",
       "\n",
       "    .dataframe tbody tr th {\n",
       "        vertical-align: top;\n",
       "    }\n",
       "\n",
       "    .dataframe thead th {\n",
       "        text-align: right;\n",
       "    }\n",
       "</style>\n",
       "<table border=\"1\" class=\"dataframe\">\n",
       "  <thead>\n",
       "    <tr style=\"text-align: right;\">\n",
       "      <th></th>\n",
       "      <th>Unnamed: 0</th>\n",
       "      <th>Date</th>\n",
       "      <th>Open</th>\n",
       "      <th>High</th>\n",
       "      <th>Low</th>\n",
       "      <th>Close</th>\n",
       "      <th>Adj Close</th>\n",
       "      <th>Volume</th>\n",
       "    </tr>\n",
       "  </thead>\n",
       "  <tbody>\n",
       "    <tr>\n",
       "      <th>0</th>\n",
       "      <td>3377</td>\n",
       "      <td>2010-12-20</td>\n",
       "      <td>67979.0</td>\n",
       "      <td>68196.0</td>\n",
       "      <td>67264.0</td>\n",
       "      <td>67264.0</td>\n",
       "      <td>67264.0</td>\n",
       "      <td>2352800.0</td>\n",
       "    </tr>\n",
       "    <tr>\n",
       "      <th>1</th>\n",
       "      <td>159</td>\n",
       "      <td>1998-05-18</td>\n",
       "      <td>10906.0</td>\n",
       "      <td>10908.0</td>\n",
       "      <td>10010.0</td>\n",
       "      <td>10205.0</td>\n",
       "      <td>10205.0</td>\n",
       "      <td>0.0</td>\n",
       "    </tr>\n",
       "    <tr>\n",
       "      <th>2</th>\n",
       "      <td>3495</td>\n",
       "      <td>2011-06-13</td>\n",
       "      <td>62701.0</td>\n",
       "      <td>62968.0</td>\n",
       "      <td>62022.0</td>\n",
       "      <td>62023.0</td>\n",
       "      <td>62023.0</td>\n",
       "      <td>1397200.0</td>\n",
       "    </tr>\n",
       "    <tr>\n",
       "      <th>3</th>\n",
       "      <td>784</td>\n",
       "      <td>2000-10-09</td>\n",
       "      <td>15946.0</td>\n",
       "      <td>15975.0</td>\n",
       "      <td>15617.0</td>\n",
       "      <td>15855.0</td>\n",
       "      <td>15855.0</td>\n",
       "      <td>0.0</td>\n",
       "    </tr>\n",
       "    <tr>\n",
       "      <th>4</th>\n",
       "      <td>2178</td>\n",
       "      <td>2006-02-27</td>\n",
       "      <td>NaN</td>\n",
       "      <td>NaN</td>\n",
       "      <td>NaN</td>\n",
       "      <td>NaN</td>\n",
       "      <td>NaN</td>\n",
       "      <td>NaN</td>\n",
       "    </tr>\n",
       "  </tbody>\n",
       "</table>\n",
       "</div>"
      ],
      "text/plain": [
       "   Unnamed: 0        Date     Open     High      Low    Close  Adj Close  \\\n",
       "0        3377  2010-12-20  67979.0  68196.0  67264.0  67264.0    67264.0   \n",
       "1         159  1998-05-18  10906.0  10908.0  10010.0  10205.0    10205.0   \n",
       "2        3495  2011-06-13  62701.0  62968.0  62022.0  62023.0    62023.0   \n",
       "3         784  2000-10-09  15946.0  15975.0  15617.0  15855.0    15855.0   \n",
       "4        2178  2006-02-27      NaN      NaN      NaN      NaN        NaN   \n",
       "\n",
       "      Volume  \n",
       "0  2352800.0  \n",
       "1        0.0  \n",
       "2  1397200.0  \n",
       "3        0.0  \n",
       "4        NaN  "
      ]
     },
     "execution_count": 198,
     "metadata": {},
     "output_type": "execute_result"
    }
   ],
   "source": [
    "# 1- read the Dataframe\n",
    "# using pandas library to read dataframe, providing fast, flexible, and expressive data structures designed to make working with “relational” or “labeled” data both easy and intuitive\n",
    "df = pd.read_csv(\"https://raw.githubusercontent.com/lucastakara/Trading_Sentiment_Tests/master/ML_TEST/dataframe.csv\")\n",
    "df.head()"
   ]
  },
  {
   "cell_type": "code",
   "execution_count": 199,
   "id": "046586f4",
   "metadata": {},
   "outputs": [
    {
     "name": "stdout",
     "output_type": "stream",
     "text": [
      "      Unnamed: 0        Date      Open      High       Low     Close  \\\n",
      "2435           0  1997-10-07   12737.0   12737.0   12458.0   12481.0   \n",
      "2627           1  1997-10-08   12530.0   12530.0   12270.0   12433.0   \n",
      "3300           2  1997-10-09   12325.0   12725.0   12325.0   12684.0   \n",
      "4016           3  1997-10-10   12609.0   12778.0   12609.0   12737.0   \n",
      "2674           4  1997-10-13   12817.0   12817.0   12615.0   12698.0   \n",
      "...          ...         ...       ...       ...       ...       ...   \n",
      "2427        6151  2022-02-24  112001.0  112001.0  109125.0  111592.0   \n",
      "4111        6152  2022-02-25  111591.0  113142.0  110673.0  113142.0   \n",
      "1973        6153  2022-03-02  113143.0  115429.0  113143.0  115174.0   \n",
      "720         6154  2022-03-03  115173.0  115948.0  115010.0  115166.0   \n",
      "24          6155  2022-03-04  115166.0  115166.0  113389.0  114474.0   \n",
      "\n",
      "      Adj Close      Volume  \n",
      "2435    12481.0         0.0  \n",
      "2627    12433.0         0.0  \n",
      "3300    12684.0         0.0  \n",
      "4016    12737.0         0.0  \n",
      "2674    12698.0         0.0  \n",
      "...         ...         ...  \n",
      "2427   111592.0  16794700.0  \n",
      "4111   113142.0  17555700.0  \n",
      "1973   115174.0         0.0  \n",
      "720    115166.0  12123000.0  \n",
      "24     114474.0  10715700.0  \n",
      "\n",
      "[6156 rows x 8 columns]\n"
     ]
    }
   ],
   "source": [
    "# 2- sort the dataframe by date\n",
    "# function is used to sort by the values along either axis.\n",
    "df2 = df.sort_values(['Date'])\n",
    "print(df2)"
   ]
  },
  {
   "cell_type": "code",
   "execution_count": 200,
   "id": "3fc3d221",
   "metadata": {
    "scrolled": false
   },
   "outputs": [
    {
     "data": {
      "text/html": [
       "<style type=\"text/css\">\n",
       "#T_b3879_row0_col0, #T_b3879_row1_col1, #T_b3879_row1_col2, #T_b3879_row1_col3, #T_b3879_row1_col4, #T_b3879_row1_col5, #T_b3879_row2_col1, #T_b3879_row2_col2, #T_b3879_row2_col3, #T_b3879_row2_col4, #T_b3879_row2_col5, #T_b3879_row3_col1, #T_b3879_row3_col2, #T_b3879_row3_col3, #T_b3879_row3_col4, #T_b3879_row3_col5, #T_b3879_row4_col1, #T_b3879_row4_col2, #T_b3879_row4_col3, #T_b3879_row4_col4, #T_b3879_row4_col5, #T_b3879_row5_col1, #T_b3879_row5_col2, #T_b3879_row5_col3, #T_b3879_row5_col4, #T_b3879_row5_col5, #T_b3879_row6_col6 {\n",
       "  background-color: #b40426;\n",
       "  color: #f1f1f1;\n",
       "}\n",
       "#T_b3879_row0_col1, #T_b3879_row0_col2, #T_b3879_row0_col3, #T_b3879_row0_col4, #T_b3879_row0_col5 {\n",
       "  background-color: #d55042;\n",
       "  color: #f1f1f1;\n",
       "}\n",
       "#T_b3879_row0_col6, #T_b3879_row6_col0, #T_b3879_row6_col1, #T_b3879_row6_col2, #T_b3879_row6_col3, #T_b3879_row6_col4, #T_b3879_row6_col5 {\n",
       "  background-color: #3b4cc0;\n",
       "  color: #f1f1f1;\n",
       "}\n",
       "#T_b3879_row1_col0, #T_b3879_row2_col0, #T_b3879_row3_col0, #T_b3879_row4_col0, #T_b3879_row5_col0 {\n",
       "  background-color: #d44e41;\n",
       "  color: #f1f1f1;\n",
       "}\n",
       "#T_b3879_row1_col6, #T_b3879_row2_col6, #T_b3879_row3_col6, #T_b3879_row4_col6, #T_b3879_row5_col6 {\n",
       "  background-color: #485fd1;\n",
       "  color: #f1f1f1;\n",
       "}\n",
       "</style>\n",
       "<table id=\"T_b3879_\">\n",
       "  <thead>\n",
       "    <tr>\n",
       "      <th class=\"blank level0\" >&nbsp;</th>\n",
       "      <th class=\"col_heading level0 col0\" >Unnamed: 0</th>\n",
       "      <th class=\"col_heading level0 col1\" >Open</th>\n",
       "      <th class=\"col_heading level0 col2\" >High</th>\n",
       "      <th class=\"col_heading level0 col3\" >Low</th>\n",
       "      <th class=\"col_heading level0 col4\" >Close</th>\n",
       "      <th class=\"col_heading level0 col5\" >Adj Close</th>\n",
       "      <th class=\"col_heading level0 col6\" >Volume</th>\n",
       "    </tr>\n",
       "  </thead>\n",
       "  <tbody>\n",
       "    <tr>\n",
       "      <th id=\"T_b3879_level0_row0\" class=\"row_heading level0 row0\" >Unnamed: 0</th>\n",
       "      <td id=\"T_b3879_row0_col0\" class=\"data row0 col0\" >1.000000</td>\n",
       "      <td id=\"T_b3879_row0_col1\" class=\"data row0 col1\" >0.912166</td>\n",
       "      <td id=\"T_b3879_row0_col2\" class=\"data row0 col2\" >0.912732</td>\n",
       "      <td id=\"T_b3879_row0_col3\" class=\"data row0 col3\" >0.911830</td>\n",
       "      <td id=\"T_b3879_row0_col4\" class=\"data row0 col4\" >0.912188</td>\n",
       "      <td id=\"T_b3879_row0_col5\" class=\"data row0 col5\" >0.912188</td>\n",
       "      <td id=\"T_b3879_row0_col6\" class=\"data row0 col6\" >0.034850</td>\n",
       "    </tr>\n",
       "    <tr>\n",
       "      <th id=\"T_b3879_level0_row1\" class=\"row_heading level0 row1\" >Open</th>\n",
       "      <td id=\"T_b3879_row1_col0\" class=\"data row1 col0\" >0.912166</td>\n",
       "      <td id=\"T_b3879_row1_col1\" class=\"data row1 col1\" >1.000000</td>\n",
       "      <td id=\"T_b3879_row1_col2\" class=\"data row1 col2\" >0.999816</td>\n",
       "      <td id=\"T_b3879_row1_col3\" class=\"data row1 col3\" >0.999712</td>\n",
       "      <td id=\"T_b3879_row1_col4\" class=\"data row1 col4\" >0.999534</td>\n",
       "      <td id=\"T_b3879_row1_col5\" class=\"data row1 col5\" >0.999534</td>\n",
       "      <td id=\"T_b3879_row1_col6\" class=\"data row1 col6\" >0.078123</td>\n",
       "    </tr>\n",
       "    <tr>\n",
       "      <th id=\"T_b3879_level0_row2\" class=\"row_heading level0 row2\" >High</th>\n",
       "      <td id=\"T_b3879_row2_col0\" class=\"data row2 col0\" >0.912732</td>\n",
       "      <td id=\"T_b3879_row2_col1\" class=\"data row2 col1\" >0.999816</td>\n",
       "      <td id=\"T_b3879_row2_col2\" class=\"data row2 col2\" >1.000000</td>\n",
       "      <td id=\"T_b3879_row2_col3\" class=\"data row2 col3\" >0.999724</td>\n",
       "      <td id=\"T_b3879_row2_col4\" class=\"data row2 col4\" >0.999790</td>\n",
       "      <td id=\"T_b3879_row2_col5\" class=\"data row2 col5\" >0.999790</td>\n",
       "      <td id=\"T_b3879_row2_col6\" class=\"data row2 col6\" >0.078299</td>\n",
       "    </tr>\n",
       "    <tr>\n",
       "      <th id=\"T_b3879_level0_row3\" class=\"row_heading level0 row3\" >Low</th>\n",
       "      <td id=\"T_b3879_row3_col0\" class=\"data row3 col0\" >0.911830</td>\n",
       "      <td id=\"T_b3879_row3_col1\" class=\"data row3 col1\" >0.999712</td>\n",
       "      <td id=\"T_b3879_row3_col2\" class=\"data row3 col2\" >0.999724</td>\n",
       "      <td id=\"T_b3879_row3_col3\" class=\"data row3 col3\" >1.000000</td>\n",
       "      <td id=\"T_b3879_row3_col4\" class=\"data row3 col4\" >0.999836</td>\n",
       "      <td id=\"T_b3879_row3_col5\" class=\"data row3 col5\" >0.999836</td>\n",
       "      <td id=\"T_b3879_row3_col6\" class=\"data row3 col6\" >0.077933</td>\n",
       "    </tr>\n",
       "    <tr>\n",
       "      <th id=\"T_b3879_level0_row4\" class=\"row_heading level0 row4\" >Close</th>\n",
       "      <td id=\"T_b3879_row4_col0\" class=\"data row4 col0\" >0.912188</td>\n",
       "      <td id=\"T_b3879_row4_col1\" class=\"data row4 col1\" >0.999534</td>\n",
       "      <td id=\"T_b3879_row4_col2\" class=\"data row4 col2\" >0.999790</td>\n",
       "      <td id=\"T_b3879_row4_col3\" class=\"data row4 col3\" >0.999836</td>\n",
       "      <td id=\"T_b3879_row4_col4\" class=\"data row4 col4\" >1.000000</td>\n",
       "      <td id=\"T_b3879_row4_col5\" class=\"data row4 col5\" >1.000000</td>\n",
       "      <td id=\"T_b3879_row4_col6\" class=\"data row4 col6\" >0.078454</td>\n",
       "    </tr>\n",
       "    <tr>\n",
       "      <th id=\"T_b3879_level0_row5\" class=\"row_heading level0 row5\" >Adj Close</th>\n",
       "      <td id=\"T_b3879_row5_col0\" class=\"data row5 col0\" >0.912188</td>\n",
       "      <td id=\"T_b3879_row5_col1\" class=\"data row5 col1\" >0.999534</td>\n",
       "      <td id=\"T_b3879_row5_col2\" class=\"data row5 col2\" >0.999790</td>\n",
       "      <td id=\"T_b3879_row5_col3\" class=\"data row5 col3\" >0.999836</td>\n",
       "      <td id=\"T_b3879_row5_col4\" class=\"data row5 col4\" >1.000000</td>\n",
       "      <td id=\"T_b3879_row5_col5\" class=\"data row5 col5\" >1.000000</td>\n",
       "      <td id=\"T_b3879_row5_col6\" class=\"data row5 col6\" >0.078454</td>\n",
       "    </tr>\n",
       "    <tr>\n",
       "      <th id=\"T_b3879_level0_row6\" class=\"row_heading level0 row6\" >Volume</th>\n",
       "      <td id=\"T_b3879_row6_col0\" class=\"data row6 col0\" >0.034850</td>\n",
       "      <td id=\"T_b3879_row6_col1\" class=\"data row6 col1\" >0.078123</td>\n",
       "      <td id=\"T_b3879_row6_col2\" class=\"data row6 col2\" >0.078299</td>\n",
       "      <td id=\"T_b3879_row6_col3\" class=\"data row6 col3\" >0.077933</td>\n",
       "      <td id=\"T_b3879_row6_col4\" class=\"data row6 col4\" >0.078454</td>\n",
       "      <td id=\"T_b3879_row6_col5\" class=\"data row6 col5\" >0.078454</td>\n",
       "      <td id=\"T_b3879_row6_col6\" class=\"data row6 col6\" >1.000000</td>\n",
       "    </tr>\n",
       "  </tbody>\n",
       "</table>\n"
      ],
      "text/plain": [
       "<pandas.io.formats.style.Styler at 0x7f2cddb4abb0>"
      ]
     },
     "execution_count": 200,
     "metadata": {},
     "output_type": "execute_result"
    }
   ],
   "source": [
    "# 3- correlation of columns, using Pearson correlation method and plot the matrix.\n",
    "# corr() used to find the pairwise correlation of all columns in the dataframe\n",
    "# Pearson correlation measures the strength of the linear relationship between two variables. It has a value between -1 to 1, with a value of -1 meaning a total negative linear correlation, 0 being no correlation, and + 1 meaning a total positive correlation.\n",
    "df2.corr(method = 'pearson', min_periods = 1)\n",
    "dfCorr = df2.corr(method = 'pearson', min_periods = 1)\n",
    "dfCorr.style.background_gradient(cmap = 'coolwarm')"
   ]
  },
  {
   "cell_type": "code",
   "execution_count": 201,
   "id": "c1d9791f",
   "metadata": {},
   "outputs": [
    {
     "data": {
      "text/html": [
       "<div>\n",
       "<style scoped>\n",
       "    .dataframe tbody tr th:only-of-type {\n",
       "        vertical-align: middle;\n",
       "    }\n",
       "\n",
       "    .dataframe tbody tr th {\n",
       "        vertical-align: top;\n",
       "    }\n",
       "\n",
       "    .dataframe thead th {\n",
       "        text-align: right;\n",
       "    }\n",
       "</style>\n",
       "<table border=\"1\" class=\"dataframe\">\n",
       "  <thead>\n",
       "    <tr style=\"text-align: right;\">\n",
       "      <th></th>\n",
       "      <th>Close</th>\n",
       "    </tr>\n",
       "  </thead>\n",
       "  <tbody>\n",
       "    <tr>\n",
       "      <th>2435</th>\n",
       "      <td>12481.0</td>\n",
       "    </tr>\n",
       "    <tr>\n",
       "      <th>2627</th>\n",
       "      <td>12433.0</td>\n",
       "    </tr>\n",
       "    <tr>\n",
       "      <th>3300</th>\n",
       "      <td>12684.0</td>\n",
       "    </tr>\n",
       "    <tr>\n",
       "      <th>4016</th>\n",
       "      <td>12737.0</td>\n",
       "    </tr>\n",
       "    <tr>\n",
       "      <th>2674</th>\n",
       "      <td>12698.0</td>\n",
       "    </tr>\n",
       "  </tbody>\n",
       "</table>\n",
       "</div>"
      ],
      "text/plain": [
       "        Close\n",
       "2435  12481.0\n",
       "2627  12433.0\n",
       "3300  12684.0\n",
       "4016  12737.0\n",
       "2674  12698.0"
      ]
     },
     "execution_count": 201,
     "metadata": {},
     "output_type": "execute_result"
    }
   ],
   "source": [
    "# 4- Remove all features from the dataset, except Close price.\n",
    "# creating a new dataframe with close prices\n",
    "df3 = df2[['Close']]\n",
    "df3.head()"
   ]
  },
  {
   "cell_type": "code",
   "execution_count": 202,
   "id": "de1cc9fa",
   "metadata": {},
   "outputs": [
    {
     "name": "stdout",
     "output_type": "stream",
     "text": [
      "[[-1.2103511 ]\n",
      " [-1.21191782]\n",
      " [-1.20372519]\n",
      " ...\n",
      " [ 2.14154271]\n",
      " [ 2.14128159]\n",
      " [ 2.11869475]]\n"
     ]
    }
   ],
   "source": [
    "# 5- Scale the data\n",
    "# calculating stantard deviation\n",
    "scaler = StandardScaler()\n",
    "scaler.fit(df3)\n",
    "stantard_deviation = scaler.transform(df3) \n",
    "print(stantard_deviation)"
   ]
  },
  {
   "cell_type": "code",
   "execution_count": 203,
   "id": "dc0421c5",
   "metadata": {},
   "outputs": [
    {
     "name": "stdout",
     "output_type": "stream",
     "text": [
      "Training shape: (4264, 30, 1)\n",
      "Testing shape: (1022, 30, 1)\n"
     ]
    }
   ],
   "source": [
    "# 6- Preprocess the data, shaping it to look back 30 timesteps. (N_samples, Look_back, N_features)\n",
    "# creating a function that returns an array from the numpy library of data to create the test and training variables\n",
    "TIME_STEPS=30\n",
    "\n",
    "def create_sequences(X, y, time_steps=TIME_STEPS):\n",
    "    Xs, ys = [], []\n",
    "    for i in range(len(X)-time_steps):\n",
    "        Xs.append(X.iloc[i:(i+time_steps)].values)\n",
    "        ys.append(y.iloc[i+time_steps])\n",
    "    \n",
    "    return np.array(Xs), np.array(ys)\n",
    "\n",
    "X_train, y_train = create_sequences(train[['Close']], train['Close'])\n",
    "X_test, y_test = create_sequences(test[['Close']], test['Close'])\n",
    "\n",
    "print(f'Training shape: {X_train.shape}')\n",
    "print(f'Testing shape: {X_test.shape}')"
   ]
  },
  {
   "cell_type": "code",
   "execution_count": 204,
   "id": "d9ac5709",
   "metadata": {},
   "outputs": [
    {
     "data": {
      "text/plain": [
       "((4294, 8), (1052, 8))"
      ]
     },
     "execution_count": 204,
     "metadata": {},
     "output_type": "execute_result"
    }
   ],
   "source": [
    "# 7- Split the data into Train/Test 70%/15%.\n",
    "#the loc property is used to access a group of rows and columns by label(s) or a boolean array.\n",
    "train, test = df2.loc[df2['Date'] <= '2014-09-03'], df2.loc[df2['Date'] > '2017-12-03']\n",
    "train.shape, test.shape\n"
   ]
  },
  {
   "cell_type": "code",
   "execution_count": 208,
   "id": "7677483f",
   "metadata": {},
   "outputs": [
    {
     "name": "stderr",
     "output_type": "stream",
     "text": [
      "/tmp/ipykernel_5372/2038364903.py:4: SettingWithCopyWarning:\n",
      "\n",
      "\n",
      "A value is trying to be set on a copy of a slice from a DataFrame.\n",
      "Try using .loc[row_indexer,col_indexer] = value instead\n",
      "\n",
      "See the caveats in the documentation: https://pandas.pydata.org/pandas-docs/stable/user_guide/indexing.html#returning-a-view-versus-a-copy\n",
      "\n",
      "/tmp/ipykernel_5372/2038364903.py:6: SettingWithCopyWarning:\n",
      "\n",
      "\n",
      "A value is trying to be set on a copy of a slice from a DataFrame.\n",
      "Try using .loc[row_indexer,col_indexer] = value instead\n",
      "\n",
      "See the caveats in the documentation: https://pandas.pydata.org/pandas-docs/stable/user_guide/indexing.html#returning-a-view-versus-a-copy\n",
      "\n"
     ]
    }
   ],
   "source": [
    "# 8 - from here the code started to get very complex\n",
    "scaler= StandardScaler()\n",
    "scaler = scaler.fit(train[['Close']])\n",
    "\n",
    "train['Close'] = scaler.transform(train[['Close']])\n",
    "test['Close'] = scaler.transform(test[['Close']])"
   ]
  },
  {
   "cell_type": "code",
   "execution_count": 194,
   "id": "73e11d9a",
   "metadata": {},
   "outputs": [
    {
     "name": "stdout",
     "output_type": "stream",
     "text": [
      "Model: \"sequential_3\"\n",
      "_________________________________________________________________\n",
      " Layer (type)                Output Shape              Param #   \n",
      "=================================================================\n",
      " lstm_6 (LSTM)               (None, 128)               66560     \n",
      "                                                                 \n",
      " dropout_6 (Dropout)         (None, 128)               0         \n",
      "                                                                 \n",
      " repeat_vector_3 (RepeatVect  (None, 30, 128)          0         \n",
      " or)                                                             \n",
      "                                                                 \n",
      " lstm_7 (LSTM)               (None, 30, 128)           131584    \n",
      "                                                                 \n",
      " dropout_7 (Dropout)         (None, 30, 128)           0         \n",
      "                                                                 \n",
      " time_distributed_3 (TimeDis  (None, 30, 1)            129       \n",
      " tributed)                                                       \n",
      "                                                                 \n",
      "=================================================================\n",
      "Total params: 198,273\n",
      "Trainable params: 198,273\n",
      "Non-trainable params: 0\n",
      "_________________________________________________________________\n"
     ]
    }
   ],
   "source": [
    "model = Sequential()\n",
    "model.add(LSTM(128, input_shape=(X_train.shape[1], X_train.shape[2])))\n",
    "model.add(Dropout(rate=0.2))\n",
    "model.add(RepeatVector(X_train.shape[1]))\n",
    "model.add(LSTM(128, return_sequences=True))\n",
    "model.add(Dropout(rate=0.2))\n",
    "model.add(TimeDistributed(Dense(X_train.shape[2])))\n",
    "model.compile(optimizer='adam', loss='mae')\n",
    "model.summary()"
   ]
  },
  {
   "cell_type": "code",
   "execution_count": 58,
   "id": "f5c72254",
   "metadata": {},
   "outputs": [
    {
     "name": "stdout",
     "output_type": "stream",
     "text": [
      "Epoch 1/100\n",
      "120/120 [==============================] - 8s 44ms/step - loss: nan - val_loss: nan\n",
      "Epoch 2/100\n",
      "120/120 [==============================] - 5s 41ms/step - loss: nan - val_loss: nan\n",
      "Epoch 3/100\n",
      "120/120 [==============================] - 5s 43ms/step - loss: nan - val_loss: nan\n"
     ]
    }
   ],
   "source": [
    "history = model.fit(X_train, y_train, epochs=100, batch_size=32, validation_split=0.1,\n",
    "                    callbacks=[keras.callbacks.EarlyStopping(monitor='val_loss', patience=3, mode='min')], shuffle=False)"
   ]
  },
  {
   "cell_type": "code",
   "execution_count": 195,
   "id": "0d723f54",
   "metadata": {},
   "outputs": [
    {
     "data": {
      "image/png": "[encoded data removed]",
      "text/plain": [
       "<Figure size 432x288 with 1 Axes>"
      ]
     },
     "metadata": {
      "needs_background": "light"
     },
     "output_type": "display_data"
    }
   ],
   "source": [
    "plt.plot(history.history['loss'], label='Perda de treinamento') \n",
    "plt.plot(history.history['val_loss'], label='Perda de validação') \n",
    "plt.legend();"
   ]
  },
  {
   "cell_type": "code",
   "execution_count": 51,
   "id": "e362369c",
   "metadata": {},
   "outputs": [
    {
     "name": "stdout",
     "output_type": "stream",
     "text": [
      "58/58 [==============================] - 1s 14ms/step - loss: nan\n"
     ]
    },
    {
     "data": {
      "text/plain": [
       "nan"
      ]
     },
     "execution_count": 51,
     "metadata": {},
     "output_type": "execute_result"
    }
   ],
   "source": [
    "model.evaluate(X_test, y_test)"
   ]
  },
  {
   "cell_type": "code",
   "execution_count": null,
   "id": "911cfc97",
   "metadata": {},
   "outputs": [],
   "source": []
  }
 ],
 "metadata": {
  "kernelspec": {
   "display_name": "Python 3 (ipykernel)",
   "language": "python",
   "name": "python3"
  },
  "language_info": {
   "codemirror_mode": {
    "name": "ipython",
    "version": 3
   },
   "file_extension": ".py",
   "mimetype": "text/x-python",
   "name": "python",
   "nbconvert_exporter": "python",
   "pygments_lexer": "ipython3",
   "version": "3.8.10"
  }
 },
 "nbformat": 4,
 "nbformat_minor": 5
}
